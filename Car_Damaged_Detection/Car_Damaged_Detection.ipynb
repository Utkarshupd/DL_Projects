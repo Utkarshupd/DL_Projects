{
  "nbformat": 4,
  "nbformat_minor": 0,
  "metadata": {
    "accelerator": "GPU",
    "colab": {
      "name": "internship.ipynb",
      "provenance": [],
      "collapsed_sections": []
    },
    "kernelspec": {
      "display_name": "Python 3",
      "language": "python",
      "name": "python3"
    },
    "language_info": {
      "codemirror_mode": {
        "name": "ipython",
        "version": 3
      },
      "file_extension": ".py",
      "mimetype": "text/x-python",
      "name": "python",
      "nbconvert_exporter": "python",
      "pygments_lexer": "ipython3",
      "version": "3.6.5"
    }
  },
  "cells": [
    {
      "cell_type": "code",
      "metadata": {
        "colab_type": "code",
        "id": "hOF2sPQzE4wJ",
        "colab": {}
      },
      "source": [
        "#importing required libraries\n",
        "import numpy as np\n",
        "import pandas as pd\n",
        "import seaborn as sns\n",
        "from PIL import Image\n",
        "import cv2\n",
        "import os\n",
        "import matplotlib.pyplot as plt\n",
        "%matplotlib inline\n",
        "sns.set(style=\"white\", color_codes=True)"
      ],
      "execution_count": 0,
      "outputs": []
    },
    {
      "cell_type": "code",
      "metadata": {
        "id": "41rOoKqKJd_5",
        "colab_type": "code",
        "outputId": "8a755be8-8534-44d3-9279-c0cfba2e8f53",
        "colab": {
          "base_uri": "https://localhost:8080/",
          "height": 122
        }
      },
      "source": [
        "from google.colab import drive\n",
        "drive.mount('/content/drive')"
      ],
      "execution_count": 0,
      "outputs": [
        {
          "output_type": "stream",
          "text": [
            "Go to this URL in a browser: https://accounts.google.com/o/oauth2/auth?client_id=947318989803-6bn6qk8qdgf4n4g3pfee6491hc0brc4i.apps.googleusercontent.com&redirect_uri=urn%3Aietf%3Awg%3Aoauth%3A2.0%3Aoob&scope=email%20https%3A%2F%2Fwww.googleapis.com%2Fauth%2Fdocs.test%20https%3A%2F%2Fwww.googleapis.com%2Fauth%2Fdrive%20https%3A%2F%2Fwww.googleapis.com%2Fauth%2Fdrive.photos.readonly%20https%3A%2F%2Fwww.googleapis.com%2Fauth%2Fpeopleapi.readonly&response_type=code\n",
            "\n",
            "Enter your authorization code:\n",
            "··········\n",
            "Mounted at /content/drive\n"
          ],
          "name": "stdout"
        }
      ]
    },
    {
      "cell_type": "code",
      "metadata": {
        "id": "fK02ErmYJs3Y",
        "colab_type": "code",
        "outputId": "66d523ce-511b-47ce-ddba-7b1f7955649b",
        "colab": {
          "base_uri": "https://localhost:8080/",
          "height": 34
        }
      },
      "source": [
        "%cd /content/drive/My Drive/internship/Internship"
      ],
      "execution_count": 0,
      "outputs": [
        {
          "output_type": "stream",
          "text": [
            "/content/drive/My Drive/internship/Internship\n"
          ],
          "name": "stdout"
        }
      ]
    },
    {
      "cell_type": "code",
      "metadata": {
        "colab_type": "code",
        "id": "27XL1_nzCsWE",
        "colab": {}
      },
      "source": [
        "name=[]\n",
        "for i in range(601):\n",
        "    name.append('annot_chem4/akhand_b43_'+str(i)+'.xml')"
      ],
      "execution_count": 0,
      "outputs": []
    },
    {
      "cell_type": "code",
      "metadata": {
        "colab_type": "code",
        "id": "vR79rUcWWnfP",
        "colab": {}
      },
      "source": [
        "imz_name=[]\n",
        "for i in range(601):\n",
        "    imz_name.append('images_chem4/akhand_b43_'+str(i)+'.jpg')"
      ],
      "execution_count": 0,
      "outputs": []
    },
    {
      "cell_type": "code",
      "metadata": {
        "colab_type": "code",
        "id": "1XKTHBYAZR5l",
        "colab": {}
      },
      "source": [
        "#This code is to extract the damage category(class label) from the xml file\n",
        "\n",
        "import xml.etree.ElementTree as ET \n",
        "\n",
        "damage=[]\n",
        "\n",
        "for i in range(601):\n",
        "    xroot = ET.parse(name[i]).getroot()\n",
        "    name1=[]\n",
        "    t=[]\n",
        "    for node in xroot: \n",
        "        name1 = node.find(\"name\")\n",
        "        if(name1 is not None):\n",
        "            t=(name1.text)\n",
        "            break\n",
        "    if (t is not None):\n",
        "        damage.append(t)\n",
        "    \n",
        "#print(damage)"
      ],
      "execution_count": 0,
      "outputs": []
    },
    {
      "cell_type": "code",
      "metadata": {
        "colab_type": "code",
        "id": "5mzf9jRX1n4I",
        "colab": {}
      },
      "source": [
        "d={'Damage':damage}"
      ],
      "execution_count": 0,
      "outputs": []
    },
    {
      "cell_type": "code",
      "metadata": {
        "colab_type": "code",
        "id": "b0ZiqHSnmtii",
        "colab": {}
      },
      "source": [
        "df=pd.DataFrame(d)"
      ],
      "execution_count": 0,
      "outputs": []
    },
    {
      "cell_type": "code",
      "metadata": {
        "colab_type": "code",
        "id": "NcZnMl0S04__",
        "outputId": "2fd6a735-3a9d-465d-da03-57c615513147",
        "colab": {
          "base_uri": "https://localhost:8080/",
          "height": 204
        }
      },
      "source": [
        "df.head()"
      ],
      "execution_count": 0,
      "outputs": [
        {
          "output_type": "execute_result",
          "data": {
            "text/html": [
              "<div>\n",
              "<style scoped>\n",
              "    .dataframe tbody tr th:only-of-type {\n",
              "        vertical-align: middle;\n",
              "    }\n",
              "\n",
              "    .dataframe tbody tr th {\n",
              "        vertical-align: top;\n",
              "    }\n",
              "\n",
              "    .dataframe thead th {\n",
              "        text-align: right;\n",
              "    }\n",
              "</style>\n",
              "<table border=\"1\" class=\"dataframe\">\n",
              "  <thead>\n",
              "    <tr style=\"text-align: right;\">\n",
              "      <th></th>\n",
              "      <th>Damage</th>\n",
              "    </tr>\n",
              "  </thead>\n",
              "  <tbody>\n",
              "    <tr>\n",
              "      <th>0</th>\n",
              "      <td>Shatter</td>\n",
              "    </tr>\n",
              "    <tr>\n",
              "      <th>1</th>\n",
              "      <td>Shatter</td>\n",
              "    </tr>\n",
              "    <tr>\n",
              "      <th>2</th>\n",
              "      <td>Scratch_or_spot</td>\n",
              "    </tr>\n",
              "    <tr>\n",
              "      <th>3</th>\n",
              "      <td>[]</td>\n",
              "    </tr>\n",
              "    <tr>\n",
              "      <th>4</th>\n",
              "      <td>Dislocation</td>\n",
              "    </tr>\n",
              "  </tbody>\n",
              "</table>\n",
              "</div>"
            ],
            "text/plain": [
              "            Damage\n",
              "0          Shatter\n",
              "1          Shatter\n",
              "2  Scratch_or_spot\n",
              "3               []\n",
              "4      Dislocation"
            ]
          },
          "metadata": {
            "tags": []
          },
          "execution_count": 9
        }
      ]
    },
    {
      "cell_type": "code",
      "metadata": {
        "colab_type": "code",
        "id": "0NRQiHhaJIh4",
        "outputId": "e046c91b-f632-4c97-9421-611a01819bb3",
        "colab": {
          "base_uri": "https://localhost:8080/",
          "height": 34
        }
      },
      "source": [
        "#Output list consists of different types of damages category we have\n",
        "output = []\n",
        "for x in damage:\n",
        "    if x not in output:\n",
        "        output.append(x)\n",
        "print (output)"
      ],
      "execution_count": 0,
      "outputs": [
        {
          "output_type": "stream",
          "text": [
            "['Shatter', 'Scratch_or_spot', [], 'Dislocation', 'Dent', 'Large_tear_or_damage', 'Tear', 'Large_dent']\n"
          ],
          "name": "stdout"
        }
      ]
    },
    {
      "cell_type": "code",
      "metadata": {
        "colab_type": "code",
        "id": "ywr64xW4OCMY",
        "colab": {}
      },
      "source": [
        "#Out of different categories we will only use 2.\n",
        "a=df.loc[(df['Damage'] == 'Scratch_or_spot')]\n",
        "b=df.loc[(df['Damage'] == 'Dent')]\n",
        "final=a.append(b)"
      ],
      "execution_count": 0,
      "outputs": []
    },
    {
      "cell_type": "code",
      "metadata": {
        "colab_type": "code",
        "id": "tE1qzgIWVijG",
        "outputId": "c0c8c5ee-19bb-4e39-bc64-9e3b1650889c",
        "colab": {
          "base_uri": "https://localhost:8080/",
          "height": 54
        }
      },
      "source": [
        "s=final.index.tolist()\n",
        "final=sorted(s)\n",
        "print(final)"
      ],
      "execution_count": 0,
      "outputs": [
        {
          "output_type": "stream",
          "text": [
            "[2, 6, 11, 16, 19, 20, 24, 25, 26, 29, 35, 36, 40, 41, 43, 44, 45, 49, 50, 51, 52, 56, 57, 60, 61, 62, 64, 65, 67, 68, 73, 79, 84, 88, 93, 94, 101, 106, 109, 115, 119, 120, 123, 125, 126, 135, 137, 139, 143, 144, 147, 156, 171, 174, 175, 176, 177, 178, 179, 180, 183, 186, 194, 198, 204, 205, 206, 207, 208, 209, 215, 217, 220, 221, 222, 223, 225, 226, 227, 229, 234, 248, 249, 253, 254, 257, 262, 269, 271, 272, 275, 276, 284, 285, 287, 288, 289, 290, 295, 297, 300, 302, 305, 306, 308, 309, 310, 312, 315, 316, 317, 318, 319, 320, 321, 332, 341, 342, 343, 345, 346, 347, 348, 349, 350, 351, 352, 353, 354, 356, 357, 358, 359, 360, 363, 364, 365, 366, 367, 368, 369, 370, 371, 372, 373, 374, 376, 381, 382, 383, 388, 389, 393, 394, 395, 396, 406, 407, 410, 414, 415, 416, 417, 418, 419, 420, 421, 425, 426, 430, 434, 439, 440, 441, 445, 448, 450, 457, 458, 466, 467, 468, 472, 475, 477, 486, 488, 494, 498, 499, 501, 502, 503, 507, 512, 519, 520, 522, 523, 526, 527, 528, 530, 531, 532, 533, 534, 535, 536, 537, 538, 539, 540, 541, 542, 543, 544, 545, 549, 553, 554, 555, 556, 557, 558, 561, 562, 563, 564, 565, 570, 573, 575, 576, 577, 579, 585, 586, 587, 588, 593, 594, 595, 596, 599, 600]\n"
          ],
          "name": "stdout"
        }
      ]
    },
    {
      "cell_type": "code",
      "metadata": {
        "colab_type": "code",
        "id": "saF-ytWy-gcW",
        "colab": {}
      },
      "source": [
        "damage_1=df.loc[list(a.index)]\n",
        "damage_2=df.loc[list(b.index)]"
      ],
      "execution_count": 0,
      "outputs": []
    },
    {
      "cell_type": "code",
      "metadata": {
        "colab_type": "code",
        "id": "pSt0DZXEAWt9",
        "colab": {}
      },
      "source": [
        "from PIL import Image\n",
        "import cv2\n",
        "\n",
        "damage_1_image=[]\n",
        "damage_2_image=[]\n",
        "\n",
        "basewidth = 300\n",
        "hsize = 200\n",
        "\n",
        "for i in damage_1.index:\n",
        "    img =Image.open(imz_name[i])\n",
        "    wpercent = (basewidth/float(img.size[0]))\n",
        "    img = img.resize((basewidth,hsize), Image.ANTIALIAS)\n",
        "    damage_1_image.append(np.asarray(img))\n",
        "\n",
        "for i in damage_2.index:\n",
        "    img =Image.open(imz_name[i])\n",
        "    wpercent = (basewidth/float(img.size[0]))\n",
        "    img = img.resize((basewidth,hsize), Image.ANTIALIAS)\n",
        "    damage_2_image.append(np.asarray(img))\n"
      ],
      "execution_count": 0,
      "outputs": []
    },
    {
      "cell_type": "code",
      "metadata": {
        "colab_type": "code",
        "id": "eQyg6ZmGirhK",
        "colab": {}
      },
      "source": [
        "imzz_1=np.expand_dims(damage_1_image[0], 0)\n",
        "for i in range(len(damage_1_image)-1):\n",
        "    a=np.expand_dims(damage_1_image[i+1], 0)\n",
        "    imzz_1=np.vstack((imzz_1,a))\n",
        "\n",
        "imzz_2=np.expand_dims(damage_2_image[0], 0)\n",
        "for i in range(len(damage_2_image)-1):\n",
        "    a=np.expand_dims(damage_2_image[i+1], 0)\n",
        "    imzz_2=np.vstack((imzz_2,a))"
      ],
      "execution_count": 0,
      "outputs": []
    },
    {
      "cell_type": "code",
      "metadata": {
        "id": "OC9c1wgB7q_l",
        "colab_type": "code",
        "outputId": "cec88e3d-3da0-4c88-c0d7-b5853e346a60",
        "colab": {}
      },
      "source": [
        "len(imzz_1)"
      ],
      "execution_count": 0,
      "outputs": [
        {
          "output_type": "execute_result",
          "data": {
            "text/plain": [
              "136"
            ]
          },
          "metadata": {
            "tags": []
          },
          "execution_count": 16
        }
      ]
    },
    {
      "cell_type": "code",
      "metadata": {
        "colab_type": "code",
        "id": "oM_J2kYQzfgq",
        "outputId": "db2690a6-242f-4196-aca1-2a5b6fb1ba79",
        "colab": {
          "base_uri": "https://localhost:8080/",
          "height": 34
        }
      },
      "source": [
        "#This code is used for augmenting or adding more data to our dataset by using image augmentation techniques because we have very less data.\n",
        "from keras.preprocessing.image import ImageDataGenerator\n",
        "\n",
        "datagen = ImageDataGenerator(\n",
        "        rotation_range=40,\n",
        "        width_shift_range=0.2,\n",
        "        height_shift_range=0.2,\n",
        "        rescale=1./255,\n",
        "        shear_range=0.2,\n",
        "        zoom_range=0.2,\n",
        "        horizontal_flip=True,\n",
        "        fill_mode='nearest')\n",
        "\n",
        "i=0\n",
        "for batch in datagen.flow(imzz_1, batch_size=32,save_to_dir='dam_1', save_prefix=i, save_format='jpg'):\n",
        "    i += 1\n",
        "    if i >= 60:\n",
        "        break \n",
        "\n",
        "i=0\n",
        "for batch in datagen.flow(imzz_2, batch_size=32,save_to_dir='dam_2', save_prefix=i, save_format='jpg'):\n",
        "    i += 1\n",
        "    if i >= 60:\n",
        "        break "
      ],
      "execution_count": 0,
      "outputs": [
        {
          "output_type": "stream",
          "text": [
            "Using TensorFlow backend.\n"
          ],
          "name": "stderr"
        }
      ]
    },
    {
      "cell_type": "code",
      "metadata": {
        "colab_type": "code",
        "id": "Q0KD4QP4BtqJ",
        "colab": {}
      },
      "source": [
        "damage_1_image=[]\n",
        "damage_2_image=[]\n",
        "\n",
        "\n",
        "for i in os.listdir('dam_1'):\n",
        "    p='dam_1/'+str(i)\n",
        "    img =Image.open(p)\n",
        "    damage_1_image.append(np.asarray(img))\n",
        "\n",
        "for i in os.listdir('dam_2'):\n",
        "    p='dam_2/'+str(i)\n",
        "    img =Image.open(p)\n",
        "    damage_2_image.append(np.asarray(img))\n"
      ],
      "execution_count": 0,
      "outputs": []
    },
    {
      "cell_type": "code",
      "metadata": {
        "id": "VcaB-HF87q_v",
        "colab_type": "code",
        "colab": {}
      },
      "source": [
        "imzz_1=np.expand_dims(damage_1_image[0], 0)\n",
        "for i in range(len(damage_1_image)-1):\n",
        "    a=np.expand_dims(damage_1_image[i+1], 0)\n",
        "    imzz_1=np.vstack((imzz_1,a))\n",
        "\n",
        "imzz_2=np.expand_dims(damage_2_image[0], 0)\n",
        "for i in range(len(damage_2_image)-1):\n",
        "    a=np.expand_dims(damage_2_image[i+1], 0)\n",
        "    imzz_2=np.vstack((imzz_2,a))"
      ],
      "execution_count": 0,
      "outputs": []
    },
    {
      "cell_type": "code",
      "metadata": {
        "id": "AFiHOHrK7q_y",
        "colab_type": "code",
        "outputId": "a18226cd-6315-4a3e-d544-08c1ee7b194c",
        "colab": {
          "base_uri": "https://localhost:8080/",
          "height": 34
        }
      },
      "source": [
        "imz=np.vstack((imzz_1,imzz_2))\n",
        "imz.shape"
      ],
      "execution_count": 0,
      "outputs": [
        {
          "output_type": "execute_result",
          "data": {
            "text/plain": [
              "(3282, 200, 300, 3)"
            ]
          },
          "metadata": {
            "tags": []
          },
          "execution_count": 6
        }
      ]
    },
    {
      "cell_type": "markdown",
      "metadata": {
        "id": "q7q7D0kBAKOC",
        "colab_type": "text"
      },
      "source": [
        "**After Image augmentation now we have 3282 different data points.**\n",
        "\n",
        "**We came from 246 to 3282 data points.Now we can build our models on this data**"
      ]
    },
    {
      "cell_type": "code",
      "metadata": {
        "id": "TffB9oYX7q_1",
        "colab_type": "code",
        "colab": {}
      },
      "source": [
        "labels=np.array([0] * (len(imzz_1)) + [1] * (len(imzz_2)))"
      ],
      "execution_count": 0,
      "outputs": []
    },
    {
      "cell_type": "code",
      "metadata": {
        "colab_type": "code",
        "id": "KMs0hHnu8W3d",
        "colab": {}
      },
      "source": [
        "#Splitting the data into train & test 80:20 ratio\n",
        "from sklearn.model_selection import train_test_split\n",
        "x_train,x_test,y_train,y_test=train_test_split(imz, labels, test_size = 0.2,stratify =  labels)"
      ],
      "execution_count": 0,
      "outputs": []
    },
    {
      "cell_type": "code",
      "metadata": {
        "id": "bHAuINaA7rAD",
        "colab_type": "code",
        "outputId": "d765689b-bc98-43e5-824c-81592709e0e7",
        "colab": {
          "base_uri": "https://localhost:8080/",
          "height": 34
        }
      },
      "source": [
        "x_test.shape"
      ],
      "execution_count": 0,
      "outputs": [
        {
          "output_type": "execute_result",
          "data": {
            "text/plain": [
              "(657, 200, 300, 3)"
            ]
          },
          "metadata": {
            "tags": []
          },
          "execution_count": 9
        }
      ]
    },
    {
      "cell_type": "code",
      "metadata": {
        "colab_type": "code",
        "id": "8qfoORJeZjat",
        "colab": {}
      },
      "source": [
        "batch_size=1\n",
        "epochs=30"
      ],
      "execution_count": 0,
      "outputs": []
    },
    {
      "cell_type": "markdown",
      "metadata": {
        "id": "burDYEb9Npzp",
        "colab_type": "text"
      },
      "source": [
        "## Use VGG-16 trained model for transfer learning"
      ]
    },
    {
      "cell_type": "code",
      "metadata": {
        "colab_type": "code",
        "id": "QylO7C1vtNeB",
        "outputId": "85c983ee-4a91-41e1-cab6-e1459f4c92e0",
        "colab": {
          "base_uri": "https://localhost:8080/",
          "height": 34
        }
      },
      "source": [
        "\n",
        "from keras.models import Sequential\n",
        "from keras.layers import Dropout, Flatten, Dense\n",
        "from keras import applications\n",
        "\n",
        "def save_bottlebeck_features():\n",
        "    \n",
        "    # build the VGG16 network\n",
        "    model = applications.VGG16(include_top=False, weights='imagenet')\n",
        "\n",
        "    bottleneck_features_train = model.predict(\n",
        "        x_train)\n",
        "    np.save(open('bottleneck_features_train.npy', 'wb'),\n",
        "            bottleneck_features_train)\n",
        "\n",
        "    bottleneck_features_validation = model.predict(\n",
        "        x_test)\n",
        "    np.save(open('bottleneck_features_validation.npy', 'wb'),\n",
        "            bottleneck_features_validation)\n"
      ],
      "execution_count": 0,
      "outputs": [
        {
          "output_type": "stream",
          "text": [
            "Using TensorFlow backend.\n"
          ],
          "name": "stderr"
        }
      ]
    },
    {
      "cell_type": "code",
      "metadata": {
        "colab_type": "code",
        "id": "0sucLIIA0QBz",
        "colab": {}
      },
      "source": [
        "def train_top_model():\n",
        "    train_data = np.load(open('bottleneck_features_train.npy','rb'))\n",
        "    \n",
        "    validation_data = np.load(open('bottleneck_features_validation.npy','rb'))\n",
        "    \n",
        "    model = Sequential()\n",
        "    model.add(Flatten(input_shape=train_data.shape[1:]))\n",
        "    model.add(Dense(32, activation='relu'))\n",
        "    model.add(Dropout(0.5))\n",
        "    model.add(Dense(1, activation='sigmoid'))\n",
        "\n",
        "    model.compile(optimizer='rmsprop',\n",
        "                  loss='binary_crossentropy', metrics=['accuracy'])\n",
        "\n",
        "    trained_model=model.fit(train_data, y_train,\n",
        "              epochs=epochs,\n",
        "              batch_size=batch_size,\n",
        "              validation_data=(validation_data, y_test),verbose=1)\n",
        "    \n",
        "    score = model.evaluate(validation_data, y_test, verbose=1,batch_size=1) \n",
        "    print('Test Loss:', score[0]) \n",
        "    print('Test AUC:', score[1])\n",
        "\n",
        "    plt.plot(trained_model.history['acc'], 'r')\n",
        "    plt.plot(trained_model.history['val_acc'], 'b')\n",
        "    plt.xlabel(\"Epochs\")\n",
        "    plt.ylabel(\"ACC\")\n",
        "    plt.legend({'Train ACC': 'r', 'Test ACC':'b'})\n",
        "\n",
        "    plt.show()\n",
        "    \n"
      ],
      "execution_count": 0,
      "outputs": []
    },
    {
      "cell_type": "code",
      "metadata": {
        "colab_type": "code",
        "id": "VghYYll60Sef",
        "outputId": "a4be1fbf-3c38-4d5e-9f83-5be51b2601a7",
        "colab": {
          "base_uri": "https://localhost:8080/",
          "height": 1000
        }
      },
      "source": [
        "save_bottlebeck_features()\n",
        "train_top_model()"
      ],
      "execution_count": 0,
      "outputs": [
        {
          "output_type": "stream",
          "text": [
            "Train on 2625 samples, validate on 657 samples\n",
            "Epoch 1/30\n",
            "2625/2625 [==============================] - 18s 7ms/step - loss: 7.6732 - acc: 0.5101 - val_loss: 8.0958 - val_acc: 0.4977\n",
            "Epoch 2/30\n",
            "2625/2625 [==============================] - 16s 6ms/step - loss: 7.7345 - acc: 0.5059 - val_loss: 7.9236 - val_acc: 0.5084\n",
            "Epoch 3/30\n",
            "2625/2625 [==============================] - 15s 6ms/step - loss: 6.7885 - acc: 0.5653 - val_loss: 6.8381 - val_acc: 0.5616\n",
            "Epoch 4/30\n",
            "2625/2625 [==============================] - 15s 6ms/step - loss: 6.4299 - acc: 0.5813 - val_loss: 5.9736 - val_acc: 0.6058\n",
            "Epoch 5/30\n",
            "2625/2625 [==============================] - 15s 6ms/step - loss: 5.8703 - acc: 0.6091 - val_loss: 6.2628 - val_acc: 0.5890\n",
            "Epoch 6/30\n",
            "2625/2625 [==============================] - 16s 6ms/step - loss: 5.4504 - acc: 0.6251 - val_loss: 5.6683 - val_acc: 0.6180\n",
            "Epoch 7/30\n",
            "2625/2625 [==============================] - 15s 6ms/step - loss: 4.5918 - acc: 0.6427 - val_loss: 5.3166 - val_acc: 0.6149\n",
            "Epoch 8/30\n",
            "2625/2625 [==============================] - 16s 6ms/step - loss: 5.6492 - acc: 0.6019 - val_loss: 6.2436 - val_acc: 0.5997\n",
            "Epoch 9/30\n",
            "2625/2625 [==============================] - 15s 6ms/step - loss: 4.1529 - acc: 0.6587 - val_loss: 3.1355 - val_acc: 0.6545\n",
            "Epoch 10/30\n",
            "2625/2625 [==============================] - 15s 6ms/step - loss: 2.8640 - acc: 0.6872 - val_loss: 3.8748 - val_acc: 0.6514\n",
            "Epoch 11/30\n",
            "2625/2625 [==============================] - 15s 6ms/step - loss: 2.4982 - acc: 0.7067 - val_loss: 3.3879 - val_acc: 0.6834\n",
            "Epoch 12/30\n",
            "2625/2625 [==============================] - 16s 6ms/step - loss: 2.0209 - acc: 0.7398 - val_loss: 2.9971 - val_acc: 0.6743\n",
            "Epoch 13/30\n",
            "2625/2625 [==============================] - 15s 6ms/step - loss: 2.2194 - acc: 0.7429 - val_loss: 4.4005 - val_acc: 0.6454\n",
            "Epoch 14/30\n",
            "2625/2625 [==============================] - 15s 6ms/step - loss: 2.0789 - acc: 0.7467 - val_loss: 2.4776 - val_acc: 0.7245\n",
            "Epoch 15/30\n",
            "2625/2625 [==============================] - 15s 6ms/step - loss: 1.8377 - acc: 0.7756 - val_loss: 3.0198 - val_acc: 0.7291\n",
            "Epoch 16/30\n",
            "2625/2625 [==============================] - 15s 6ms/step - loss: 1.5682 - acc: 0.8080 - val_loss: 3.8537 - val_acc: 0.6758\n",
            "Epoch 17/30\n",
            "2625/2625 [==============================] - 15s 6ms/step - loss: 1.6551 - acc: 0.7992 - val_loss: 2.9074 - val_acc: 0.7169\n",
            "Epoch 18/30\n",
            "2625/2625 [==============================] - 16s 6ms/step - loss: 1.5019 - acc: 0.8042 - val_loss: 1.4369 - val_acc: 0.7291\n",
            "Epoch 19/30\n",
            "2625/2625 [==============================] - 16s 6ms/step - loss: 1.3858 - acc: 0.8240 - val_loss: 2.4941 - val_acc: 0.7291\n",
            "Epoch 20/30\n",
            "2625/2625 [==============================] - 15s 6ms/step - loss: 1.2111 - acc: 0.8404 - val_loss: 2.1045 - val_acc: 0.7382\n",
            "Epoch 21/30\n",
            "2625/2625 [==============================] - 15s 6ms/step - loss: 1.1655 - acc: 0.8423 - val_loss: 2.7340 - val_acc: 0.7397\n",
            "Epoch 22/30\n",
            "2625/2625 [==============================] - 15s 6ms/step - loss: 1.2458 - acc: 0.8442 - val_loss: 2.3275 - val_acc: 0.7275\n",
            "Epoch 23/30\n",
            "2625/2625 [==============================] - 15s 6ms/step - loss: 1.1848 - acc: 0.8472 - val_loss: 2.5226 - val_acc: 0.7336\n",
            "Epoch 24/30\n",
            "2625/2625 [==============================] - 15s 6ms/step - loss: 1.0701 - acc: 0.8590 - val_loss: 2.3613 - val_acc: 0.7595\n",
            "Epoch 25/30\n",
            "2625/2625 [==============================] - 15s 6ms/step - loss: 1.0852 - acc: 0.8663 - val_loss: 2.6698 - val_acc: 0.7397\n",
            "Epoch 26/30\n",
            "2625/2625 [==============================] - 15s 6ms/step - loss: 0.8780 - acc: 0.8728 - val_loss: 2.1704 - val_acc: 0.7397\n",
            "Epoch 27/30\n",
            "2625/2625 [==============================] - 15s 6ms/step - loss: 0.9331 - acc: 0.8754 - val_loss: 2.9370 - val_acc: 0.7047\n",
            "Epoch 28/30\n",
            "2625/2625 [==============================] - 15s 6ms/step - loss: 0.9005 - acc: 0.8842 - val_loss: 2.3906 - val_acc: 0.7504\n",
            "Epoch 29/30\n",
            "2625/2625 [==============================] - 15s 6ms/step - loss: 0.8706 - acc: 0.8891 - val_loss: 2.1709 - val_acc: 0.7199\n",
            "Epoch 30/30\n",
            "2625/2625 [==============================] - 15s 6ms/step - loss: 0.7148 - acc: 0.8983 - val_loss: 2.7916 - val_acc: 0.7275\n",
            "657/657 [==============================] - 1s 2ms/step\n",
            "Test Loss: 2.7915810210819005\n",
            "Test AUC: 0.7275494672754946\n"
          ],
          "name": "stdout"
        },
        {
          "output_type": "display_data",
          "data": {
            "image/png": "[encoded data removed]",
            "text/plain": [
              "<Figure size 432x288 with 1 Axes>"
            ]
          },
          "metadata": {
            "tags": []
          }
        }
      ]
    },
    {
      "cell_type": "markdown",
      "metadata": {
        "id": "fsOH4nC8U8fS",
        "colab_type": "text"
      },
      "source": [
        "#Conclusions:\n",
        "\n",
        "**1: Used VGG16 pretrained network for classification.**\n",
        "\n",
        "**2: Increased our dataset by using augmentation techniques.**\n",
        "\n",
        "**3: Trained model for 30 epochs.Our model yield Test accuracy = 0.72 with some overfitting.**\n",
        "\n",
        "**4: We can use regularization methods like dropouts to reduce overfitting.**"
      ]
    },
    {
      "cell_type": "code",
      "metadata": {
        "id": "eUPJY86u-6gj",
        "colab_type": "code",
        "colab": {}
      },
      "source": [
        ""
      ],
      "execution_count": 0,
      "outputs": []
    }
  ]
}