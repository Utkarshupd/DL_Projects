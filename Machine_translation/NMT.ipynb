{
  "nbformat": 4,
  "nbformat_minor": 0,
  "metadata": {
    "accelerator": "GPU",
    "colab": {
      "name": "NMT.ipynb",
      "provenance": [],
      "collapsed_sections": []
    },
    "kernelspec": {
      "name": "python3",
      "display_name": "Python 3"
    },
    "language_info": {
      "codemirror_mode": {
        "name": "ipython",
        "version": 3
      },
      "file_extension": ".py",
      "mimetype": "text/x-python",
      "name": "python",
      "nbconvert_exporter": "python",
      "pygments_lexer": "ipython3",
      "version": "3.5.2"
    }
  },
  "cells": [
    {
      "cell_type": "markdown",
      "metadata": {
        "id": "sd-8-y8_NKT2",
        "colab_type": "text"
      },
      "source": [
        "# Credit: https://www.tensorflow.org/beta/tutorials/text/nmt_with_attention\n",
        "**Check above links for more exciting tutorial**"
      ]
    },
    {
      "cell_type": "markdown",
      "metadata": {
        "colab_type": "text",
        "id": "J0Qjg6vuaHNt"
      },
      "source": [
        "# Neural Machine Translation with Attention"
      ]
    },
    {
      "cell_type": "markdown",
      "metadata": {
        "colab_type": "text",
        "id": "CiwtNgENbx2g"
      },
      "source": [
        "This notebook trains a sequence to sequence (seq2seq) model for Hindi to English translation. This is an advanced example that assumes some knowledge of sequence to sequence models.\n",
        "\n",
        "After training the model in this notebook, we will be able to input a Hindi sentence, such as **\"तुम कहाँ गए थे?\"**, and return the English translation: **\"where did you go?\"**\n",
        "\n"
      ]
    },
    {
      "cell_type": "code",
      "metadata": {
        "colab_type": "code",
        "id": "tnxXKDjq3jEL",
        "outputId": "3f02f926-0056-4dbb-aabd-469bcf1b12a2",
        "colab": {
          "base_uri": "https://localhost:8080/",
          "height": 51
        }
      },
      "source": [
        "#https://stackoverflow.com/questions/7075082/what-is-future-in-python-used-for-and-how-when-to-use-it-and-how-it-works\n",
        "#With __future__ module's inclusion, you can slowly be accustomed to incompatible changes or to such ones introducing new keywords.\n",
        "from __future__ import absolute_import, division, print_function, unicode_literals\n",
        "\n",
        "try:\n",
        "  # %tensorflow_version only exists in Colab.\n",
        "  %tensorflow_version 2.x\n",
        "except Exception:\n",
        "  pass\n",
        "import tensorflow as tf\n",
        "\n",
        "import matplotlib.pyplot as plt\n",
        "import matplotlib.ticker as ticker\n",
        "from sklearn.model_selection import train_test_split\n",
        "\n",
        "#https://docs.python.org/2/library/unicodedata.html\n",
        "import unicodedata\n",
        "import re\n",
        "import numpy as np\n",
        "import os\n",
        "import io\n",
        "import time\n",
        "import pandas as pd\n",
        "import numpy as np\n",
        "import string\n",
        "from string import digits\n",
        "import matplotlib.pyplot as plt\n",
        "%matplotlib inline\n",
        "import re\n",
        "from sklearn.utils import shuffle\n",
        "from sklearn.model_selection import train_test_split\n",
        "from keras.layers import Input, LSTM, Embedding, Dense\n",
        "from keras.models import Model"
      ],
      "execution_count": 1,
      "outputs": [
        {
          "output_type": "stream",
          "text": [
            "TensorFlow 2.x selected.\n"
          ],
          "name": "stdout"
        },
        {
          "output_type": "stream",
          "text": [
            "Using TensorFlow backend.\n"
          ],
          "name": "stderr"
        }
      ]
    },
    {
      "cell_type": "code",
      "metadata": {
        "id": "ZdNwdE4iZk3G",
        "colab_type": "code",
        "outputId": "0d86bf21-346d-4467-8e80-0246e8f616d6",
        "colab": {
          "base_uri": "https://localhost:8080/",
          "height": 122
        }
      },
      "source": [
        "from google.colab import drive\n",
        "drive.mount('/content/drive')"
      ],
      "execution_count": 2,
      "outputs": [
        {
          "output_type": "stream",
          "text": [
            "Go to this URL in a browser: https://accounts.google.com/o/oauth2/auth?client_id=947318989803-6bn6qk8qdgf4n4g3pfee6491hc0brc4i.apps.googleusercontent.com&redirect_uri=urn%3aietf%3awg%3aoauth%3a2.0%3aoob&response_type=code&scope=email%20https%3a%2f%2fwww.googleapis.com%2fauth%2fdocs.test%20https%3a%2f%2fwww.googleapis.com%2fauth%2fdrive%20https%3a%2f%2fwww.googleapis.com%2fauth%2fdrive.photos.readonly%20https%3a%2f%2fwww.googleapis.com%2fauth%2fpeopleapi.readonly\n",
            "\n",
            "Enter your authorization code:\n",
            "··········\n",
            "Mounted at /content/drive\n"
          ],
          "name": "stdout"
        }
      ]
    },
    {
      "cell_type": "code",
      "metadata": {
        "id": "QsRCd4YZZx3-",
        "colab_type": "code",
        "outputId": "f1fd5f1d-a187-4ac8-cac3-f0f509b417ee",
        "colab": {
          "base_uri": "https://localhost:8080/",
          "height": 34
        }
      },
      "source": [
        "%cd /content/drive/My Drive/Colab Notebooks"
      ],
      "execution_count": 3,
      "outputs": [
        {
          "output_type": "stream",
          "text": [
            "/content/drive/My Drive/Colab Notebooks\n"
          ],
          "name": "stdout"
        }
      ]
    },
    {
      "cell_type": "code",
      "metadata": {
        "id": "263HSIeqH8jp",
        "colab_type": "code",
        "colab": {}
      },
      "source": [
        "hin_eng=pd.read_fwf('hin_eng.txt')"
      ],
      "execution_count": 0,
      "outputs": []
    },
    {
      "cell_type": "markdown",
      "metadata": {
        "id": "3A2ot_gJTiKu",
        "colab_type": "text"
      },
      "source": [
        "# Text_Preprocessing"
      ]
    },
    {
      "cell_type": "code",
      "metadata": {
        "colab_type": "code",
        "id": "rd0jw-eC3jEh",
        "colab": {}
      },
      "source": [
        "#text preprocessing\n",
        "def preprocess_sentence(w):\n",
        "    # creating a space between a word and the punctuation following it\n",
        "    # eg: \"he is a boy.\" => \"he is a boy .\"\n",
        "    # Reference:- https://stackoverflow.com/questions/3645931/python-padding-punctuation-with-white-spaces-keeping-punctuation\n",
        "    w = re.sub(r\"([?.!,¿])\", r\" \\1 \", w)\n",
        "    w = re.sub(r'[\" \"]+', \" \", w)\n",
        "    w = w.rstrip().strip()\n",
        "\n",
        "    # adding a start and an end token to the sentence\n",
        "    # so that the model know when to start and stop predicting.\n",
        "    w = '<start> ' + w + ' <end>'\n",
        "    return w"
      ],
      "execution_count": 0,
      "outputs": []
    },
    {
      "cell_type": "code",
      "metadata": {
        "id": "KyzplK4glPBj",
        "colab_type": "code",
        "colab": {
          "base_uri": "https://localhost:8080/",
          "height": 34
        },
        "outputId": "2135ac41-e004-493e-8ef2-d0bbcedec5a2"
      },
      "source": [
        "print(preprocess_sentence(data.English.loc[0]))"
      ],
      "execution_count": 14,
      "outputs": [
        {
          "output_type": "stream",
          "text": [
            "<start> Help ! <end>\n"
          ],
          "name": "stdout"
        }
      ]
    },
    {
      "cell_type": "code",
      "metadata": {
        "id": "3lUmAAQMQKNR",
        "colab_type": "code",
        "colab": {}
      },
      "source": [
        "lines = io.open('/content/drive/My Drive/Colab Notebooks/hin_eng.txt', encoding='UTF-8').read().strip().replace('\\n',' start ').split('\\t')\n",
        "eng=[]\n",
        "hin=[]\n",
        "for n in range(2,len(lines),2):\n",
        "    a=lines[n]\n",
        "    i=(a.find('start'))\n",
        "    eng.append(a[i+6:])\n",
        "\n",
        "for n in range(3,len(lines),2):\n",
        "    hin.append(lines[n])"
      ],
      "execution_count": 0,
      "outputs": []
    },
    {
      "cell_type": "code",
      "metadata": {
        "id": "npSQrXsRRluo",
        "colab_type": "code",
        "colab": {}
      },
      "source": [
        "eng=eng[:2783]\n",
        "hin=hin[:2783]\n",
        "english=[]\n",
        "hindi=[]\n",
        "for i in eng:\n",
        "    sen=preprocess_sentence(i)\n",
        "    english.append(sen)\n",
        "\n",
        "for i in hin:\n",
        "    sen=preprocess_sentence(i)\n",
        "    hindi.append(sen)"
      ],
      "execution_count": 0,
      "outputs": []
    },
    {
      "cell_type": "code",
      "metadata": {
        "id": "cE6ZHEs2OBjQ",
        "colab_type": "code",
        "colab": {}
      },
      "source": [
        "data=pd.DataFrame(list(zip(english, hindi)),columns =['English', 'Hindi'])"
      ],
      "execution_count": 0,
      "outputs": []
    },
    {
      "cell_type": "code",
      "metadata": {
        "id": "U9BFox8KPCPo",
        "colab_type": "code",
        "outputId": "b8168eb8-8c3a-4248-f488-7ee21a03ec71",
        "colab": {
          "base_uri": "https://localhost:8080/",
          "height": 204
        }
      },
      "source": [
        "data.tail()"
      ],
      "execution_count": 86,
      "outputs": [
        {
          "output_type": "execute_result",
          "data": {
            "text/html": [
              "<div>\n",
              "<style scoped>\n",
              "    .dataframe tbody tr th:only-of-type {\n",
              "        vertical-align: middle;\n",
              "    }\n",
              "\n",
              "    .dataframe tbody tr th {\n",
              "        vertical-align: top;\n",
              "    }\n",
              "\n",
              "    .dataframe thead th {\n",
              "        text-align: right;\n",
              "    }\n",
              "</style>\n",
              "<table border=\"1\" class=\"dataframe\">\n",
              "  <thead>\n",
              "    <tr style=\"text-align: right;\">\n",
              "      <th></th>\n",
              "      <th>English</th>\n",
              "      <th>Hindi</th>\n",
              "    </tr>\n",
              "  </thead>\n",
              "  <tbody>\n",
              "    <tr>\n",
              "      <th>2778</th>\n",
              "      <td>&lt;start&gt; Mother Teresa used the prize money for...</td>\n",
              "      <td>&lt;start&gt; मदर टेरेसा को जो इनाम में पैसे मिले , ...</td>\n",
              "    </tr>\n",
              "    <tr>\n",
              "      <th>2779</th>\n",
              "      <td>&lt;start&gt; If you go to that supermarket , you ca...</td>\n",
              "      <td>&lt;start&gt; उस सूपरमार्केट में तुम लगभग कोई भी रोज...</td>\n",
              "    </tr>\n",
              "    <tr>\n",
              "      <th>2780</th>\n",
              "      <td>&lt;start&gt; The passengers who were injured in the...</td>\n",
              "      <td>&lt;start&gt; जिन यात्रियों को दुर्घटना मे चोट आई थी...</td>\n",
              "    </tr>\n",
              "    <tr>\n",
              "      <th>2781</th>\n",
              "      <td>&lt;start&gt; Democracy is the worst form of governm...</td>\n",
              "      <td>&lt;start&gt; लोकतंत्र सरकार का सबसे घिनौना रूप है ,...</td>\n",
              "    </tr>\n",
              "    <tr>\n",
              "      <th>2782</th>\n",
              "      <td>&lt;start&gt; If my boy had not been killed in the t...</td>\n",
              "      <td>&lt;start&gt; अगर मेरा बेटा ट्रेफ़िक हादसे में नहीं ...</td>\n",
              "    </tr>\n",
              "  </tbody>\n",
              "</table>\n",
              "</div>"
            ],
            "text/plain": [
              "                                                English                                              Hindi\n",
              "2778  <start> Mother Teresa used the prize money for...  <start> मदर टेरेसा को जो इनाम में पैसे मिले , ...\n",
              "2779  <start> If you go to that supermarket , you ca...  <start> उस सूपरमार्केट में तुम लगभग कोई भी रोज...\n",
              "2780  <start> The passengers who were injured in the...  <start> जिन यात्रियों को दुर्घटना मे चोट आई थी...\n",
              "2781  <start> Democracy is the worst form of governm...  <start> लोकतंत्र सरकार का सबसे घिनौना रूप है ,...\n",
              "2782  <start> If my boy had not been killed in the t...  <start> अगर मेरा बेटा ट्रेफ़िक हादसे में नहीं ..."
            ]
          },
          "metadata": {
            "tags": []
          },
          "execution_count": 86
        }
      ]
    },
    {
      "cell_type": "markdown",
      "metadata": {
        "id": "xKpViwi2YL7E",
        "colab_type": "text"
      },
      "source": [
        "# maximum length function of tensor"
      ]
    },
    {
      "cell_type": "code",
      "metadata": {
        "colab_type": "code",
        "id": "OmMZQpdO60dt",
        "colab": {}
      },
      "source": [
        "def max_length(tensor):\n",
        "    return max(len(t) for t in tensor)"
      ],
      "execution_count": 0,
      "outputs": []
    },
    {
      "cell_type": "markdown",
      "metadata": {
        "id": "9uMdIeI8YT6q",
        "colab_type": "text"
      },
      "source": [
        "# Tokenizeing function"
      ]
    },
    {
      "cell_type": "markdown",
      "metadata": {
        "id": "Bc7hTkbpZIBs",
        "colab_type": "text"
      },
      "source": [
        "**filters: a string where each element is a character that will be\n",
        "    filtered from the texts. The default is all punctuation, plus\n",
        "    tabs and line breaks, minus the `'` character.**\n",
        "    https://www.tensorflow.org/api_docs/python/tf/keras/preprocessing/text/Tokenizer"
      ]
    },
    {
      "cell_type": "code",
      "metadata": {
        "colab_type": "code",
        "id": "bIOn8RCNDJXG",
        "colab": {}
      },
      "source": [
        "def tokenize(lang):\n",
        "  #below code vectorizes text and returns a sequence of integer \n",
        "  #you can read more about this here \n",
        "  #https://www.tensorflow.org/api_docs/python/tf/keras/preprocessing/text/Tokenizer\n",
        "  lang_tokenizer = tf.keras.preprocessing.text.Tokenizer(\n",
        "      filters='')\n",
        "  #here fit and text to sequence works same as we have seen in scikit learn\n",
        "  lang_tokenizer.fit_on_texts(lang)\n",
        "  \n",
        "  #transforms into sequence of information\n",
        "  #https://rdrr.io/cran/keras/man/texts_to_sequences.html\n",
        "  tensor = lang_tokenizer.texts_to_sequences(lang)\n",
        "  \n",
        "  #this will do post padding of tensor\n",
        "  tensor = tf.keras.preprocessing.sequence.pad_sequences(tensor,\n",
        "                                                         padding='post')\n",
        "\n",
        "  return tensor, lang_tokenizer"
      ],
      "execution_count": 0,
      "outputs": []
    },
    {
      "cell_type": "code",
      "metadata": {
        "id": "vrcooDXwrM7x",
        "colab_type": "code",
        "colab": {}
      },
      "source": [
        "english_tensor,english_tokenizer=tokenize(english)\n",
        "hindi_tensor,hindi_tokenizer=tokenize(hindi)"
      ],
      "execution_count": 0,
      "outputs": []
    },
    {
      "cell_type": "code",
      "metadata": {
        "id": "WJsV37ITrRwN",
        "colab_type": "code",
        "colab": {
          "base_uri": "https://localhost:8080/",
          "height": 136
        },
        "outputId": "691b6042-9468-4826-fd2c-d733e5b14460"
      },
      "source": [
        "english_tensor"
      ],
      "execution_count": 26,
      "outputs": [
        {
          "output_type": "execute_result",
          "data": {
            "text/plain": [
              "array([[   1,   92,   63, ...,    0,    0,    0],\n",
              "       [   1,  551,    3, ...,    0,    0,    0],\n",
              "       [   1,  551,    3, ...,    0,    0,    0],\n",
              "       ...,\n",
              "       [   1,    4, 2380, ...,    0,    0,    0],\n",
              "       [   1, 2382,    9, ...,    0,    0,    0],\n",
              "       [   1,   77,   14, ...,  105,    3,    2]], dtype=int32)"
            ]
          },
          "metadata": {
            "tags": []
          },
          "execution_count": 26
        }
      ]
    },
    {
      "cell_type": "markdown",
      "metadata": {
        "id": "jAFdjFLf-HW4",
        "colab_type": "text"
      },
      "source": [
        "# Dividing dataset into train and validation"
      ]
    },
    {
      "cell_type": "code",
      "metadata": {
        "colab_type": "code",
        "id": "4QILQkOs3jFG",
        "colab": {}
      },
      "source": [
        "# Creating training and validation sets using an 80-20 split\n",
        "input_tensor_train, input_tensor_val, target_tensor_train, target_tensor_val = train_test_split(english_tensor, hindi_tensor, test_size=0.2)\n",
        "\n",
        "# Show length\n",
        "#print(len(input_tensor_train), len(target_tensor_train), len(input_tensor_val), len(target_tensor_val))"
      ],
      "execution_count": 0,
      "outputs": []
    },
    {
      "cell_type": "markdown",
      "metadata": {
        "colab_type": "text",
        "id": "rgCLkfv5uO3d"
      },
      "source": [
        "### Create a tf.data dataset\n",
        "**from_tensor_slices creates a dataset with a separate element for each row of the input tensor:**\\\n",
        "**please follow this two link to read more**\n",
        "https://stackoverflow.com/questions/49579684/difference-between-dataset-from-tensors-and-dataset-from-tensor-slices \\\n",
        "https://towardsdatascience.com/how-to-use-dataset-in-tensorflow-c758ef9e4428"
      ]
    },
    {
      "cell_type": "code",
      "metadata": {
        "colab_type": "code",
        "id": "TqHsArVZ3jFS",
        "colab": {}
      },
      "source": [
        "#length of input tensor train\n",
        "BUFFER_SIZE = len(input_tensor_train)\n",
        "#batch size\n",
        "BATCH_SIZE = 64\n",
        "#steps taken in each epochs\n",
        "steps_per_epoch = len(input_tensor_train)//BATCH_SIZE\n",
        "#total embedding dimensions of tensor\n",
        "embedding_dim = 256\n",
        "units = 1024\n",
        "#vocabulary size of input and target\n",
        "vocab_inp_size = len(english_tokenizer.word_index)+1\n",
        "vocab_tar_size = len(hindi_tokenizer.word_index)+1\n",
        "\n",
        "#tf.data.Dataset.from_tensor.slices\n",
        "dataset = tf.data.Dataset.from_tensor_slices((input_tensor_train, target_tensor_train)).shuffle(BUFFER_SIZE)\n",
        "dataset = dataset.batch(BATCH_SIZE, drop_remainder=True)"
      ],
      "execution_count": 0,
      "outputs": []
    },
    {
      "cell_type": "markdown",
      "metadata": {
        "id": "mb51Jz90CLox",
        "colab_type": "text"
      },
      "source": [
        "**next returns next items from the iterator**\\\n",
        "**please follow this link to read more** https://www.programiz.com/python-programming/methods/built-in/next"
      ]
    },
    {
      "cell_type": "code",
      "metadata": {
        "colab_type": "code",
        "id": "qc6-NK1GtWQt",
        "outputId": "1e53c2cc-882a-4b2e-e07a-796379def3b6",
        "colab": {
          "base_uri": "https://localhost:8080/",
          "height": 34
        }
      },
      "source": [
        "example_input_batch, example_target_batch = next(iter(dataset))\n",
        "example_input_batch.shape, example_target_batch.shape"
      ],
      "execution_count": 30,
      "outputs": [
        {
          "output_type": "execute_result",
          "data": {
            "text/plain": [
              "(TensorShape([64, 22]), TensorShape([64, 24]))"
            ]
          },
          "metadata": {
            "tags": []
          },
          "execution_count": 30
        }
      ]
    },
    {
      "cell_type": "code",
      "metadata": {
        "id": "-2fWqcDWCsUI",
        "colab_type": "code",
        "colab": {}
      },
      "source": [
        "# Calculate max_length of the target tensors\n",
        "max_length_targ, max_length_inp = max_length(hindi_tensor), max_length(english_tensor)"
      ],
      "execution_count": 0,
      "outputs": []
    },
    {
      "cell_type": "markdown",
      "metadata": {
        "id": "ynrE0oBxyqMy",
        "colab_type": "text"
      },
      "source": [
        "**https://ai.googleblog.com/2016/09/a-neural-network-for-machine.html**"
      ]
    },
    {
      "cell_type": "markdown",
      "metadata": {
        "id": "_6E3Ow3RIMxZ",
        "colab_type": "text"
      },
      "source": [
        "# Encoder\n",
        "> An encoder neural network reads and encodes a source sen-tence into a fixed-length vector"
      ]
    },
    {
      "cell_type": "code",
      "metadata": {
        "colab_type": "code",
        "id": "nZ2rI24i3jFg",
        "colab": {}
      },
      "source": [
        "class Encoder(tf.keras.Model):\n",
        "    \n",
        "  def __init__(self, vocab_size, embedding_dim, enc_units, batch_sz):\n",
        "    #The super() builtin returns a proxy object that allows you to refer parent class by 'super'.\n",
        "    #https://www.programiz.com/python-programming/methods/built-in/super\n",
        "    super(Encoder, self).__init__()\n",
        "    self.batch_sz = batch_sz\n",
        "    self.enc_units = enc_units\n",
        "    self.embedding = tf.keras.layers.Embedding(vocab_size, embedding_dim)\n",
        "    self.gru = tf.keras.layers.GRU(self.enc_units,\n",
        "                                   return_sequences=True,\n",
        "                                   return_state=True,\n",
        "                                   recurrent_initializer='glorot_uniform')\n",
        "\n",
        "  def call(self, x, hidden):\n",
        "    x = self.embedding(x)\n",
        "    output, state = self.gru(x, initial_state = hidden)\n",
        "    return output, state\n",
        "\n",
        "  def initialize_hidden_state(self):\n",
        "    return tf.zeros((self.batch_sz, self.enc_units))"
      ],
      "execution_count": 0,
      "outputs": []
    },
    {
      "cell_type": "code",
      "metadata": {
        "colab_type": "code",
        "id": "60gSVh05Jl6l",
        "outputId": "81edb034-699d-4939-bec7-21607a88805b",
        "colab": {
          "base_uri": "https://localhost:8080/",
          "height": 51
        }
      },
      "source": [
        "encoder = Encoder(vocab_inp_size, embedding_dim, units, BATCH_SIZE)\n",
        "\n",
        "# sample input\n",
        "#calling the initialize_hidden_state function\n",
        "sample_hidden = encoder.initialize_hidden_state()\n",
        "sample_output, sample_hidden = encoder(example_input_batch, sample_hidden)\n",
        "print ('Encoder output shape: (batch size, sequence length, units) {}'.format(sample_output.shape))\n",
        "print ('Encoder Hidden state shape: (batch size, units) {}'.format(sample_hidden.shape))"
      ],
      "execution_count": 32,
      "outputs": [
        {
          "output_type": "stream",
          "text": [
            "Encoder output shape: (batch size, sequence length, units) (64, 22, 1024)\n",
            "Encoder Hidden state shape: (batch size, units) (64, 1024)\n"
          ],
          "name": "stdout"
        }
      ]
    },
    {
      "cell_type": "markdown",
      "metadata": {
        "id": "cioRl7OKLmh4",
        "colab_type": "text"
      },
      "source": [
        "**tf.expand_dims inserts a dimension of 1 in input shape**\\\n",
        "https://www.tensorflow.org/api_docs/python/tf/expand_dims"
      ]
    },
    {
      "cell_type": "code",
      "metadata": {
        "colab_type": "code",
        "id": "umohpBN2OM94",
        "colab": {}
      },
      "source": [
        "#https://arxiv.org/abs/1409.0473\n",
        "class BahdanauAttention(tf.keras.Model):\n",
        "  def __init__(self, units):\n",
        "    super(BahdanauAttention, self).__init__()\n",
        "    self.W1 = tf.keras.layers.Dense(units)\n",
        "    self.W2 = tf.keras.layers.Dense(units)\n",
        "    self.V = tf.keras.layers.Dense(1)\n",
        "\n",
        "  def call(self, query, values):\n",
        "    # hidden shape == (batch_size, hidden size)\n",
        "    # hidden_with_time_axis shape == (batch_size, 1, hidden size)\n",
        "    # we are doing this to perform addition to calculate the score\n",
        "    hidden_with_time_axis = tf.expand_dims(query, 1)\n",
        "\n",
        "    # score shape == (batch_size, max_length, 1)\n",
        "    # we get 1 at the last axis because we are applying score to self.V\n",
        "    # the shape of the tensor before applying self.V is (batch_size, max_length, units)\n",
        "    score = self.V(tf.nn.tanh(\n",
        "        self.W1(values) + self.W2(hidden_with_time_axis)))\n",
        "\n",
        "    # attention_weights shape == (batch_size, max_length, 1)\n",
        "    attention_weights = tf.nn.softmax(score, axis=1)\n",
        "\n",
        "    # context_vector shape after sum == (batch_size, hidden_size)\n",
        "    context_vector = attention_weights * values\n",
        "    context_vector = tf.reduce_sum(context_vector, axis=1)\n",
        "\n",
        "    return context_vector, attention_weights"
      ],
      "execution_count": 0,
      "outputs": []
    },
    {
      "cell_type": "code",
      "metadata": {
        "colab_type": "code",
        "id": "k534zTHiDjQU",
        "outputId": "0e567562-c7eb-4ebd-efdb-f4786cb8f68a",
        "colab": {
          "base_uri": "https://localhost:8080/",
          "height": 51
        }
      },
      "source": [
        "attention_layer = BahdanauAttention(10)\n",
        "attention_result, attention_weights = attention_layer(sample_hidden, sample_output)\n",
        "\n",
        "print(\"Attention result shape: (batch size, units) {}\".format(attention_result.shape))\n",
        "print(\"Attention weights shape: (batch_size, sequence_length, 1) {}\".format(attention_weights.shape))"
      ],
      "execution_count": 34,
      "outputs": [
        {
          "output_type": "stream",
          "text": [
            "Attention result shape: (batch size, units) (64, 1024)\n",
            "Attention weights shape: (batch_size, sequence_length, 1) (64, 22, 1)\n"
          ],
          "name": "stdout"
        }
      ]
    },
    {
      "cell_type": "markdown",
      "metadata": {
        "id": "AiIf6vAVIUTP",
        "colab_type": "text"
      },
      "source": [
        "# Decoder\n",
        "> A decoder outputs a translation from the encoded vector"
      ]
    },
    {
      "cell_type": "code",
      "metadata": {
        "colab_type": "code",
        "id": "yJ_B3mhW3jFk",
        "colab": {}
      },
      "source": [
        "class Decoder(tf.keras.Model):\n",
        "  def __init__(self, vocab_size, embedding_dim, dec_units, batch_sz):\n",
        "    super(Decoder, self).__init__()\n",
        "    self.batch_sz = batch_sz\n",
        "    self.dec_units = dec_units\n",
        "    self.embedding = tf.keras.layers.Embedding(vocab_size, embedding_dim)\n",
        "    self.gru = tf.keras.layers.GRU(self.dec_units,\n",
        "                                   return_sequences=True,\n",
        "                                   return_state=True,\n",
        "                                   recurrent_initializer='glorot_uniform')\n",
        "    self.fc = tf.keras.layers.Dense(vocab_size)\n",
        "\n",
        "    # used for attention\n",
        "    self.attention = BahdanauAttention(self.dec_units)\n",
        "\n",
        "  def call(self, x, hidden, enc_output):\n",
        "    # enc_output shape == (batch_size, max_length, hidden_size)\n",
        "    context_vector, attention_weights = self.attention(hidden, enc_output)\n",
        "\n",
        "    # x shape after passing through embedding == (batch_size, 1, embedding_dim)\n",
        "    x = self.embedding(x)\n",
        "\n",
        "    # x shape after concatenation == (batch_size, 1, embedding_dim + hidden_size)\n",
        "    x = tf.concat([tf.expand_dims(context_vector, 1), x], axis=-1)\n",
        "\n",
        "    # passing the concatenated vector to the GRU\n",
        "    output, state = self.gru(x)\n",
        "\n",
        "    # output shape == (batch_size * 1, hidden_size)\n",
        "    output = tf.reshape(output, (-1, output.shape[2]))\n",
        "\n",
        "    # output shape == (batch_size, vocab)\n",
        "    x = self.fc(output)\n",
        "\n",
        "    return x, state, attention_weights"
      ],
      "execution_count": 0,
      "outputs": []
    },
    {
      "cell_type": "code",
      "metadata": {
        "colab_type": "code",
        "id": "P5UY8wko3jFp",
        "outputId": "b35ff876-8295-459e-b07c-e9ec1afe1338",
        "colab": {
          "base_uri": "https://localhost:8080/",
          "height": 34
        }
      },
      "source": [
        "decoder = Decoder(vocab_tar_size, embedding_dim, units, BATCH_SIZE)\n",
        "\n",
        "sample_decoder_output, _, _ = decoder(tf.random.uniform((64, 1)),\n",
        "                                      sample_hidden, sample_output)\n",
        "\n",
        "print ('Decoder output shape: (batch_size, vocab size) {}'.format(sample_decoder_output.shape))"
      ],
      "execution_count": 36,
      "outputs": [
        {
          "output_type": "stream",
          "text": [
            "Decoder output shape: (batch_size, vocab size) (64, 3004)\n"
          ],
          "name": "stdout"
        }
      ]
    },
    {
      "cell_type": "markdown",
      "metadata": {
        "colab_type": "text",
        "id": "_ch_71VbIRfK"
      },
      "source": [
        "## Define the optimizer and the loss function"
      ]
    },
    {
      "cell_type": "code",
      "metadata": {
        "colab_type": "code",
        "id": "WmTHr5iV3jFr",
        "colab": {}
      },
      "source": [
        "optimizer = tf.keras.optimizers.Adam()\n",
        "loss_object = tf.keras.losses.SparseCategoricalCrossentropy(\n",
        "    from_logits=True, reduction='none')\n",
        "\n",
        "def loss_function(real, pred):\n",
        "  mask = tf.math.logical_not(tf.math.equal(real, 0))\n",
        "  loss_ = loss_object(real, pred)\n",
        "\n",
        "  mask = tf.cast(mask, dtype=loss_.dtype)\n",
        "  loss_ *= mask\n",
        "\n",
        "  return tf.reduce_mean(loss_)"
      ],
      "execution_count": 0,
      "outputs": []
    },
    {
      "cell_type": "markdown",
      "metadata": {
        "colab_type": "text",
        "id": "DMVWzzsfNl4e"
      },
      "source": [
        "## Checkpoints (Object-based saving)"
      ]
    },
    {
      "cell_type": "code",
      "metadata": {
        "colab_type": "code",
        "id": "Zj8bXQTgNwrF",
        "colab": {}
      },
      "source": [
        "checkpoint_dir = './training_checkpoints'\n",
        "checkpoint_prefix = os.path.join(checkpoint_dir, \"ckpt\")\n",
        "checkpoint = tf.train.Checkpoint(optimizer=optimizer,\n",
        "                                 encoder=encoder,\n",
        "                                 decoder=decoder)"
      ],
      "execution_count": 0,
      "outputs": []
    },
    {
      "cell_type": "markdown",
      "metadata": {
        "colab_type": "text",
        "id": "hpObfY22IddU"
      },
      "source": [
        "## Training\n",
        "\n",
        "1. Pass the *input* through the *encoder* which return *encoder output* and the *encoder hidden state*.\n",
        "2. The encoder output, encoder hidden state and the decoder input (which is the *start token*) is passed to the decoder.\n",
        "3. The decoder returns the *predictions* and the *decoder hidden state*.\n",
        "4. The decoder hidden state is then passed back into the model and the predictions are used to calculate the loss.\n",
        "5. Use *teacher forcing* to decide the next input to the decoder.\n",
        "6. *Teacher forcing* is the technique where the *target word* is passed as the *next input* to the decoder.\n",
        "7. The final step is to calculate the gradients and apply it to the optimizer and backpropagate."
      ]
    },
    {
      "cell_type": "code",
      "metadata": {
        "colab_type": "code",
        "id": "sC9ArXSsVfqn",
        "colab": {}
      },
      "source": [
        "@tf.function\n",
        "def train_step(inp, targ, enc_hidden):\n",
        "  loss = 0\n",
        "\n",
        "  with tf.GradientTape() as tape:\n",
        "    enc_output, enc_hidden = encoder(inp, enc_hidden)\n",
        "\n",
        "    dec_hidden = enc_hidden\n",
        "\n",
        "    dec_input = tf.expand_dims([hindi_tokenizer.word_index['<start>']] * BATCH_SIZE, 1)\n",
        "\n",
        "    # Teacher forcing - feeding the target as the next input\n",
        "    for t in range(1, targ.shape[1]):\n",
        "      # passing enc_output to the decoder\n",
        "      predictions, dec_hidden, _ = decoder(dec_input, dec_hidden, enc_output)\n",
        "\n",
        "      loss += loss_function(targ[:, t], predictions)\n",
        "\n",
        "      # using teacher forcing\n",
        "      dec_input = tf.expand_dims(targ[:, t], 1)\n",
        "\n",
        "  batch_loss = (loss / int(targ.shape[1]))\n",
        "\n",
        "  variables = encoder.trainable_variables + decoder.trainable_variables\n",
        "\n",
        "  gradients = tape.gradient(loss, variables)\n",
        "\n",
        "  optimizer.apply_gradients(zip(gradients, variables))\n",
        "\n",
        "  return batch_loss"
      ],
      "execution_count": 0,
      "outputs": []
    },
    {
      "cell_type": "code",
      "metadata": {
        "colab_type": "code",
        "id": "ddefjBMa3jF0",
        "outputId": "2ce63db5-3ba1-42eb-de09-8c69984c76c5",
        "colab": {
          "base_uri": "https://localhost:8080/",
          "height": 1000
        }
      },
      "source": [
        "EPOCHS = 50\n",
        "\n",
        "for epoch in range(EPOCHS):\n",
        "  start = time.time()\n",
        "\n",
        "  enc_hidden = encoder.initialize_hidden_state()\n",
        "  total_loss = 0\n",
        "\n",
        "  for (batch, (inp, targ)) in enumerate(dataset.take(steps_per_epoch)):\n",
        "    batch_loss = train_step(inp, targ, enc_hidden)\n",
        "    total_loss += batch_loss\n",
        "\n",
        "    if batch % 100 == 0:\n",
        "        print('Epoch {} Batch {} Loss {:.4f}'.format(epoch + 1,\n",
        "                                                     batch,\n",
        "                                                     batch_loss.numpy()))\n",
        "  # saving (checkpoint) the model every 2 epochs\n",
        "  if (epoch + 1) % 2 == 0:\n",
        "    checkpoint.save(file_prefix = checkpoint_prefix)\n",
        "\n",
        "  print('Epoch {} Loss {:.4f}'.format(epoch + 1,\n",
        "                                      total_loss / steps_per_epoch))\n",
        "  print('Time taken for 1 epoch {} sec\\n'.format(time.time() - start))"
      ],
      "execution_count": 42,
      "outputs": [
        {
          "output_type": "stream",
          "text": [
            "Epoch 1 Batch 0 Loss 2.7475\n",
            "Epoch 1 Loss 2.2678\n",
            "Time taken for 1 epoch 35.30059313774109 sec\n",
            "\n",
            "Epoch 2 Batch 0 Loss 1.8323\n",
            "Epoch 2 Loss 1.8948\n",
            "Time taken for 1 epoch 5.707517623901367 sec\n",
            "\n",
            "Epoch 3 Batch 0 Loss 1.7517\n",
            "Epoch 3 Loss 1.7549\n",
            "Time taken for 1 epoch 4.209693431854248 sec\n",
            "\n",
            "Epoch 4 Batch 0 Loss 1.6116\n",
            "Epoch 4 Loss 1.6650\n",
            "Time taken for 1 epoch 5.0230278968811035 sec\n",
            "\n",
            "Epoch 5 Batch 0 Loss 1.4901\n",
            "Epoch 5 Loss 1.5780\n",
            "Time taken for 1 epoch 4.226661682128906 sec\n",
            "\n",
            "Epoch 6 Batch 0 Loss 1.4658\n",
            "Epoch 6 Loss 1.4882\n",
            "Time taken for 1 epoch 5.567097187042236 sec\n",
            "\n",
            "Epoch 7 Batch 0 Loss 1.5111\n",
            "Epoch 7 Loss 1.4081\n",
            "Time taken for 1 epoch 4.212133407592773 sec\n",
            "\n",
            "Epoch 8 Batch 0 Loss 1.2734\n",
            "Epoch 8 Loss 1.3362\n",
            "Time taken for 1 epoch 5.075854539871216 sec\n",
            "\n",
            "Epoch 9 Batch 0 Loss 1.1989\n",
            "Epoch 9 Loss 1.2702\n",
            "Time taken for 1 epoch 4.2619593143463135 sec\n",
            "\n",
            "Epoch 10 Batch 0 Loss 1.1804\n",
            "Epoch 10 Loss 1.1967\n",
            "Time taken for 1 epoch 5.544325828552246 sec\n",
            "\n",
            "Epoch 11 Batch 0 Loss 1.0169\n",
            "Epoch 11 Loss 1.1278\n",
            "Time taken for 1 epoch 4.1824915409088135 sec\n",
            "\n",
            "Epoch 12 Batch 0 Loss 1.1460\n",
            "Epoch 12 Loss 1.0549\n",
            "Time taken for 1 epoch 5.040301561355591 sec\n",
            "\n",
            "Epoch 13 Batch 0 Loss 0.9450\n",
            "Epoch 13 Loss 0.9845\n",
            "Time taken for 1 epoch 4.233548164367676 sec\n",
            "\n",
            "Epoch 14 Batch 0 Loss 0.8636\n",
            "Epoch 14 Loss 0.9197\n",
            "Time taken for 1 epoch 5.613085746765137 sec\n",
            "\n",
            "Epoch 15 Batch 0 Loss 0.8498\n",
            "Epoch 15 Loss 0.8627\n",
            "Time taken for 1 epoch 4.211162805557251 sec\n",
            "\n",
            "Epoch 16 Batch 0 Loss 0.7028\n",
            "Epoch 16 Loss 0.8101\n",
            "Time taken for 1 epoch 5.0312840938568115 sec\n",
            "\n",
            "Epoch 17 Batch 0 Loss 0.6656\n",
            "Epoch 17 Loss 0.7565\n",
            "Time taken for 1 epoch 4.294201850891113 sec\n",
            "\n",
            "Epoch 18 Batch 0 Loss 0.6598\n",
            "Epoch 18 Loss 0.6974\n",
            "Time taken for 1 epoch 5.191315174102783 sec\n",
            "\n",
            "Epoch 19 Batch 0 Loss 0.6456\n",
            "Epoch 19 Loss 0.6503\n",
            "Time taken for 1 epoch 4.2214601039886475 sec\n",
            "\n",
            "Epoch 20 Batch 0 Loss 0.5650\n",
            "Epoch 20 Loss 0.6060\n",
            "Time taken for 1 epoch 5.065908432006836 sec\n",
            "\n",
            "Epoch 21 Batch 0 Loss 0.5104\n",
            "Epoch 21 Loss 0.5596\n",
            "Time taken for 1 epoch 4.225013971328735 sec\n",
            "\n",
            "Epoch 22 Batch 0 Loss 0.4323\n",
            "Epoch 22 Loss 0.5132\n",
            "Time taken for 1 epoch 5.123489141464233 sec\n",
            "\n",
            "Epoch 23 Batch 0 Loss 0.4028\n",
            "Epoch 23 Loss 0.4712\n",
            "Time taken for 1 epoch 4.201403617858887 sec\n",
            "\n",
            "Epoch 24 Batch 0 Loss 0.3758\n",
            "Epoch 24 Loss 0.4302\n",
            "Time taken for 1 epoch 5.35253119468689 sec\n",
            "\n",
            "Epoch 25 Batch 0 Loss 0.3759\n",
            "Epoch 25 Loss 0.3770\n",
            "Time taken for 1 epoch 4.222990036010742 sec\n",
            "\n",
            "Epoch 26 Batch 0 Loss 0.2857\n",
            "Epoch 26 Loss 0.3372\n",
            "Time taken for 1 epoch 5.192814588546753 sec\n",
            "\n",
            "Epoch 27 Batch 0 Loss 0.2486\n",
            "Epoch 27 Loss 0.2942\n",
            "Time taken for 1 epoch 4.2009499073028564 sec\n",
            "\n",
            "Epoch 28 Batch 0 Loss 0.2038\n",
            "Epoch 28 Loss 0.2491\n",
            "Time taken for 1 epoch 5.168393135070801 sec\n",
            "\n",
            "Epoch 29 Batch 0 Loss 0.1936\n",
            "Epoch 29 Loss 0.2168\n",
            "Time taken for 1 epoch 4.25330376625061 sec\n",
            "\n",
            "Epoch 30 Batch 0 Loss 0.1902\n",
            "Epoch 30 Loss 0.1827\n",
            "Time taken for 1 epoch 5.473753452301025 sec\n",
            "\n",
            "Epoch 31 Batch 0 Loss 0.1522\n",
            "Epoch 31 Loss 0.1513\n",
            "Time taken for 1 epoch 4.215693473815918 sec\n",
            "\n",
            "Epoch 32 Batch 0 Loss 0.1124\n",
            "Epoch 32 Loss 0.1284\n",
            "Time taken for 1 epoch 5.11774468421936 sec\n",
            "\n",
            "Epoch 33 Batch 0 Loss 0.0864\n",
            "Epoch 33 Loss 0.1049\n",
            "Time taken for 1 epoch 4.1946799755096436 sec\n",
            "\n",
            "Epoch 34 Batch 0 Loss 0.0605\n",
            "Epoch 34 Loss 0.0858\n",
            "Time taken for 1 epoch 5.006289720535278 sec\n",
            "\n",
            "Epoch 35 Batch 0 Loss 0.0479\n",
            "Epoch 35 Loss 0.0673\n",
            "Time taken for 1 epoch 4.223936080932617 sec\n",
            "\n",
            "Epoch 36 Batch 0 Loss 0.0534\n",
            "Epoch 36 Loss 0.0535\n",
            "Time taken for 1 epoch 5.034327983856201 sec\n",
            "\n",
            "Epoch 37 Batch 0 Loss 0.0425\n",
            "Epoch 37 Loss 0.0440\n",
            "Time taken for 1 epoch 4.185575485229492 sec\n",
            "\n",
            "Epoch 38 Batch 0 Loss 0.0262\n",
            "Epoch 38 Loss 0.0369\n",
            "Time taken for 1 epoch 5.038719892501831 sec\n",
            "\n",
            "Epoch 39 Batch 0 Loss 0.0254\n",
            "Epoch 39 Loss 0.0313\n",
            "Time taken for 1 epoch 4.206896066665649 sec\n",
            "\n",
            "Epoch 40 Batch 0 Loss 0.0216\n",
            "Epoch 40 Loss 0.0294\n",
            "Time taken for 1 epoch 5.0762879848480225 sec\n",
            "\n",
            "Epoch 41 Batch 0 Loss 0.0199\n",
            "Epoch 41 Loss 0.0269\n",
            "Time taken for 1 epoch 4.195120573043823 sec\n",
            "\n",
            "Epoch 42 Batch 0 Loss 0.0144\n",
            "Epoch 42 Loss 0.0246\n",
            "Time taken for 1 epoch 5.552289962768555 sec\n",
            "\n",
            "Epoch 43 Batch 0 Loss 0.0166\n",
            "Epoch 43 Loss 0.0221\n",
            "Time taken for 1 epoch 4.17979097366333 sec\n",
            "\n",
            "Epoch 44 Batch 0 Loss 0.0122\n",
            "Epoch 44 Loss 0.0201\n",
            "Time taken for 1 epoch 5.08979058265686 sec\n",
            "\n",
            "Epoch 45 Batch 0 Loss 0.0169\n",
            "Epoch 45 Loss 0.0195\n",
            "Time taken for 1 epoch 4.187510013580322 sec\n",
            "\n",
            "Epoch 46 Batch 0 Loss 0.0177\n",
            "Epoch 46 Loss 0.0195\n",
            "Time taken for 1 epoch 5.534933090209961 sec\n",
            "\n",
            "Epoch 47 Batch 0 Loss 0.0132\n",
            "Epoch 47 Loss 0.0189\n",
            "Time taken for 1 epoch 4.170226097106934 sec\n",
            "\n",
            "Epoch 48 Batch 0 Loss 0.0122\n",
            "Epoch 48 Loss 0.0193\n",
            "Time taken for 1 epoch 5.015735387802124 sec\n",
            "\n",
            "Epoch 49 Batch 0 Loss 0.0194\n",
            "Epoch 49 Loss 0.0189\n",
            "Time taken for 1 epoch 4.2173919677734375 sec\n",
            "\n",
            "Epoch 50 Batch 0 Loss 0.0127\n",
            "Epoch 50 Loss 0.0183\n",
            "Time taken for 1 epoch 5.44949197769165 sec\n",
            "\n"
          ],
          "name": "stdout"
        }
      ]
    },
    {
      "cell_type": "markdown",
      "metadata": {
        "colab_type": "text",
        "id": "mU3Ce8M6I3rz"
      },
      "source": [
        "## Translate\n",
        "\n",
        "* The evaluate function is similar to the training loop, except we don't use *teacher forcing* here. The input to the decoder at each time step is its previous predictions along with the hidden state and the encoder output.\n",
        "* Stop predicting when the model predicts the *end token*.\n",
        "* And store the *attention weights for every time step*.\n",
        "\n",
        "Note: The encoder output is calculated only once for one input."
      ]
    },
    {
      "cell_type": "code",
      "metadata": {
        "colab_type": "code",
        "id": "EbQpyYs13jF_",
        "colab": {}
      },
      "source": [
        "def evaluate(sentence):\n",
        "    attention_plot = np.zeros((max_length_targ, max_length_inp))\n",
        "\n",
        "    sentence = preprocess_sentence(sentence)\n",
        "\n",
        "    inputs = [english_tokenizer.word_index[i] for i in sentence.split(' ')]\n",
        "    inputs = tf.keras.preprocessing.sequence.pad_sequences([inputs],\n",
        "                                                           maxlen=max_length_inp,\n",
        "                                                           padding='post')\n",
        "    inputs = tf.convert_to_tensor(inputs)\n",
        "\n",
        "    result = ''\n",
        "\n",
        "    hidden = [tf.zeros((1, units))]\n",
        "    enc_out, enc_hidden = encoder(inputs, hidden)\n",
        "\n",
        "    dec_hidden = enc_hidden\n",
        "    dec_input = tf.expand_dims([hindi_tokenizer.word_index['<start>']], 0)\n",
        "\n",
        "    for t in range(max_length_targ):\n",
        "        predictions, dec_hidden, attention_weights = decoder(dec_input,\n",
        "                                                             dec_hidden,\n",
        "                                                             enc_out)\n",
        "\n",
        "        # storing the attention weights to plot later on\n",
        "        attention_weights = tf.reshape(attention_weights, (-1, ))\n",
        "        attention_plot[t] = attention_weights.numpy()\n",
        "\n",
        "        predicted_id = tf.argmax(predictions[0]).numpy()\n",
        "\n",
        "        result += hindi_tokenizer.index_word[predicted_id] + ' '\n",
        "\n",
        "        if hindi_tokenizer.index_word[predicted_id] == '<end>':\n",
        "            return result, sentence, attention_plot\n",
        "\n",
        "        # the predicted ID is fed back into the model\n",
        "        dec_input = tf.expand_dims([predicted_id], 0)\n",
        "\n",
        "    return result, sentence, attention_plot"
      ],
      "execution_count": 0,
      "outputs": []
    },
    {
      "cell_type": "code",
      "metadata": {
        "colab_type": "code",
        "id": "s5hQWlbN3jGF",
        "colab": {}
      },
      "source": [
        "# function for plotting the attention weights\n",
        "%matplotlib inline\n",
        "def plot_attention(attention, sentence, predicted_sentence):\n",
        "    fig = plt.figure(figsize=(10,10))\n",
        "    ax = fig.add_subplot(1, 1, 1)\n",
        "    ax.matshow(attention, cmap='viridis')\n",
        "\n",
        "    fontdict = {'fontsize': 14}\n",
        "\n",
        "    ax.set_xticklabels([''] + sentence, fontdict=fontdict, rotation=90)\n",
        "    ax.set_yticklabels([''] + predicted_sentence, fontdict=fontdict)\n",
        "\n",
        "    ax.xaxis.set_major_locator(ticker.MultipleLocator(1))\n",
        "    ax.yaxis.set_major_locator(ticker.MultipleLocator(1))\n",
        "\n",
        "    plt.show()"
      ],
      "execution_count": 0,
      "outputs": []
    },
    {
      "cell_type": "code",
      "metadata": {
        "colab_type": "code",
        "id": "sl9zUHzg3jGI",
        "colab": {}
      },
      "source": [
        "def translate(sentence):\n",
        "    result, sentence, attention_plot = evaluate(sentence)\n",
        "\n",
        "    print('Input: %s' % (sentence))\n",
        "    print('Predicted translation: {}'.format(result))\n",
        "\n",
        "    attention_plot = attention_plot[:len(result.split(' ')), :len(sentence.split(' '))]\n",
        "    plot_attention(attention_plot, sentence.split(' '), result.split(' '))"
      ],
      "execution_count": 0,
      "outputs": []
    },
    {
      "cell_type": "markdown",
      "metadata": {
        "colab_type": "text",
        "id": "n250XbnjOaqP"
      },
      "source": [
        "## Restore the latest checkpoint and test"
      ]
    },
    {
      "cell_type": "code",
      "metadata": {
        "colab_type": "code",
        "id": "UJpT9D5_OgP6",
        "outputId": "208c8816-07aa-4122-fb4e-dd253452ac48",
        "colab": {
          "base_uri": "https://localhost:8080/",
          "height": 34
        }
      },
      "source": [
        "# restoring the latest checkpoint in checkpoint_dir\n",
        "checkpoint.restore(tf.train.latest_checkpoint(checkpoint_dir))"
      ],
      "execution_count": 46,
      "outputs": [
        {
          "output_type": "execute_result",
          "data": {
            "text/plain": [
              "<tensorflow.python.training.tracking.util.CheckpointLoadStatus at 0x7fb5f18fcc18>"
            ]
          },
          "metadata": {
            "tags": []
          },
          "execution_count": 46
        }
      ]
    },
    {
      "cell_type": "code",
      "metadata": {
        "colab_type": "code",
        "id": "WrAM0FDomq3E",
        "outputId": "5c345c36-88b2-4668-ba52-62a4dc892e52",
        "colab": {
          "base_uri": "https://localhost:8080/",
          "height": 947
        }
      },
      "source": [
        "translate('jump')"
      ],
      "execution_count": 84,
      "outputs": [
        {
          "output_type": "stream",
          "text": [
            "Input: <start> jump <end>\n",
            "Predicted translation: कूदो . <end> \n"
          ],
          "name": "stdout"
        },
        {
          "output_type": "stream",
          "text": [
            "/usr/local/lib/python3.6/dist-packages/matplotlib/backends/backend_agg.py:211: RuntimeWarning: Glyph 2325 missing from current font.\n",
            "  font.set_text(s, 0.0, flags=flags)\n",
            "/usr/local/lib/python3.6/dist-packages/matplotlib/backends/backend_agg.py:211: RuntimeWarning: Glyph 2370 missing from current font.\n",
            "  font.set_text(s, 0.0, flags=flags)\n",
            "/usr/local/lib/python3.6/dist-packages/matplotlib/backends/backend_agg.py:211: RuntimeWarning: Glyph 2342 missing from current font.\n",
            "  font.set_text(s, 0.0, flags=flags)\n",
            "/usr/local/lib/python3.6/dist-packages/matplotlib/backends/backend_agg.py:211: RuntimeWarning: Glyph 2379 missing from current font.\n",
            "  font.set_text(s, 0.0, flags=flags)\n",
            "/usr/local/lib/python3.6/dist-packages/matplotlib/backends/backend_agg.py:180: RuntimeWarning: Glyph 2325 missing from current font.\n",
            "  font.set_text(s, 0, flags=flags)\n",
            "/usr/local/lib/python3.6/dist-packages/matplotlib/backends/backend_agg.py:180: RuntimeWarning: Glyph 2370 missing from current font.\n",
            "  font.set_text(s, 0, flags=flags)\n",
            "/usr/local/lib/python3.6/dist-packages/matplotlib/backends/backend_agg.py:180: RuntimeWarning: Glyph 2342 missing from current font.\n",
            "  font.set_text(s, 0, flags=flags)\n",
            "/usr/local/lib/python3.6/dist-packages/matplotlib/backends/backend_agg.py:180: RuntimeWarning: Glyph 2379 missing from current font.\n",
            "  font.set_text(s, 0, flags=flags)\n"
          ],
          "name": "stderr"
        },
        {
          "output_type": "display_data",
          "data": {
            "image/png": "[encoded data removed]",
            "text/plain": [
              "<Figure size 720x720 with 1 Axes>"
            ]
          },
          "metadata": {
            "tags": []
          }
        }
      ]
    }
  ]
}